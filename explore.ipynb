{
 "cells": [
  {
   "cell_type": "code",
   "execution_count": 1,
   "metadata": {},
   "outputs": [],
   "source": [
    "import pandas as pd\n",
    "import numpy as np\n",
    "import matplotlib.pyplot as plt"
   ]
  },
  {
   "cell_type": "code",
   "execution_count": 2,
   "metadata": {},
   "outputs": [
    {
     "data": {
      "text/html": [
       "<div>\n",
       "<style scoped>\n",
       "    .dataframe tbody tr th:only-of-type {\n",
       "        vertical-align: middle;\n",
       "    }\n",
       "\n",
       "    .dataframe tbody tr th {\n",
       "        vertical-align: top;\n",
       "    }\n",
       "\n",
       "    .dataframe thead th {\n",
       "        text-align: right;\n",
       "    }\n",
       "</style>\n",
       "<table border=\"1\" class=\"dataframe\">\n",
       "  <thead>\n",
       "    <tr style=\"text-align: right;\">\n",
       "      <th></th>\n",
       "      <th>date_heure</th>\n",
       "      <th>date</th>\n",
       "      <th>heure</th>\n",
       "      <th>consommation_brute_gaz_grtgaz</th>\n",
       "      <th>statut_grtgaz</th>\n",
       "      <th>consommation_brute_gaz_terega</th>\n",
       "      <th>statut_terega</th>\n",
       "      <th>consommation_brute_gaz_totale</th>\n",
       "      <th>consommation_brute_electricite_rte</th>\n",
       "      <th>statut_rte</th>\n",
       "      <th>consommation_brute_totale</th>\n",
       "    </tr>\n",
       "  </thead>\n",
       "  <tbody>\n",
       "    <tr>\n",
       "      <th>0</th>\n",
       "      <td>2023-08-31T23:30:00+02:00</td>\n",
       "      <td>31/08/2023</td>\n",
       "      <td>23:30</td>\n",
       "      <td>NaN</td>\n",
       "      <td>NaN</td>\n",
       "      <td>NaN</td>\n",
       "      <td>NaN</td>\n",
       "      <td>NaN</td>\n",
       "      <td>42710</td>\n",
       "      <td>Consolidé</td>\n",
       "      <td>NaN</td>\n",
       "    </tr>\n",
       "    <tr>\n",
       "      <th>1</th>\n",
       "      <td>2023-08-31T23:00:00+02:00</td>\n",
       "      <td>31/08/2023</td>\n",
       "      <td>23:00</td>\n",
       "      <td>23599.0</td>\n",
       "      <td>Définitif</td>\n",
       "      <td>1114.0</td>\n",
       "      <td>Définitif</td>\n",
       "      <td>24713.0</td>\n",
       "      <td>43562</td>\n",
       "      <td>Consolidé</td>\n",
       "      <td>68275.0</td>\n",
       "    </tr>\n",
       "    <tr>\n",
       "      <th>2</th>\n",
       "      <td>2023-08-31T22:30:00+02:00</td>\n",
       "      <td>31/08/2023</td>\n",
       "      <td>22:30</td>\n",
       "      <td>NaN</td>\n",
       "      <td>NaN</td>\n",
       "      <td>NaN</td>\n",
       "      <td>NaN</td>\n",
       "      <td>NaN</td>\n",
       "      <td>44426</td>\n",
       "      <td>Consolidé</td>\n",
       "      <td>NaN</td>\n",
       "    </tr>\n",
       "    <tr>\n",
       "      <th>3</th>\n",
       "      <td>2023-08-31T22:00:00+02:00</td>\n",
       "      <td>31/08/2023</td>\n",
       "      <td>22:00</td>\n",
       "      <td>24935.0</td>\n",
       "      <td>Définitif</td>\n",
       "      <td>1181.0</td>\n",
       "      <td>Définitif</td>\n",
       "      <td>26116.0</td>\n",
       "      <td>43430</td>\n",
       "      <td>Consolidé</td>\n",
       "      <td>69546.0</td>\n",
       "    </tr>\n",
       "    <tr>\n",
       "      <th>4</th>\n",
       "      <td>2023-08-31T21:30:00+02:00</td>\n",
       "      <td>31/08/2023</td>\n",
       "      <td>21:30</td>\n",
       "      <td>NaN</td>\n",
       "      <td>NaN</td>\n",
       "      <td>NaN</td>\n",
       "      <td>NaN</td>\n",
       "      <td>NaN</td>\n",
       "      <td>43281</td>\n",
       "      <td>Consolidé</td>\n",
       "      <td>NaN</td>\n",
       "    </tr>\n",
       "    <tr>\n",
       "      <th>5</th>\n",
       "      <td>2023-08-31T21:00:00+02:00</td>\n",
       "      <td>31/08/2023</td>\n",
       "      <td>21:00</td>\n",
       "      <td>26360.0</td>\n",
       "      <td>Définitif</td>\n",
       "      <td>1321.0</td>\n",
       "      <td>Définitif</td>\n",
       "      <td>27681.0</td>\n",
       "      <td>44511</td>\n",
       "      <td>Consolidé</td>\n",
       "      <td>72192.0</td>\n",
       "    </tr>\n",
       "    <tr>\n",
       "      <th>6</th>\n",
       "      <td>2023-08-31T20:30:00+02:00</td>\n",
       "      <td>31/08/2023</td>\n",
       "      <td>20:30</td>\n",
       "      <td>NaN</td>\n",
       "      <td>NaN</td>\n",
       "      <td>NaN</td>\n",
       "      <td>NaN</td>\n",
       "      <td>NaN</td>\n",
       "      <td>45313</td>\n",
       "      <td>Consolidé</td>\n",
       "      <td>NaN</td>\n",
       "    </tr>\n",
       "    <tr>\n",
       "      <th>7</th>\n",
       "      <td>2023-08-31T20:00:00+02:00</td>\n",
       "      <td>31/08/2023</td>\n",
       "      <td>20:00</td>\n",
       "      <td>27466.0</td>\n",
       "      <td>Définitif</td>\n",
       "      <td>1443.0</td>\n",
       "      <td>Définitif</td>\n",
       "      <td>28909.0</td>\n",
       "      <td>45412</td>\n",
       "      <td>Consolidé</td>\n",
       "      <td>74321.0</td>\n",
       "    </tr>\n",
       "    <tr>\n",
       "      <th>8</th>\n",
       "      <td>2023-08-31T19:30:00+02:00</td>\n",
       "      <td>31/08/2023</td>\n",
       "      <td>19:30</td>\n",
       "      <td>NaN</td>\n",
       "      <td>NaN</td>\n",
       "      <td>NaN</td>\n",
       "      <td>NaN</td>\n",
       "      <td>NaN</td>\n",
       "      <td>46477</td>\n",
       "      <td>Consolidé</td>\n",
       "      <td>NaN</td>\n",
       "    </tr>\n",
       "    <tr>\n",
       "      <th>9</th>\n",
       "      <td>2023-08-31T19:00:00+02:00</td>\n",
       "      <td>31/08/2023</td>\n",
       "      <td>19:00</td>\n",
       "      <td>27928.0</td>\n",
       "      <td>Définitif</td>\n",
       "      <td>1409.0</td>\n",
       "      <td>Définitif</td>\n",
       "      <td>29337.0</td>\n",
       "      <td>47232</td>\n",
       "      <td>Consolidé</td>\n",
       "      <td>76569.0</td>\n",
       "    </tr>\n",
       "  </tbody>\n",
       "</table>\n",
       "</div>"
      ],
      "text/plain": [
       "                  date_heure        date  heure  \\\n",
       "0  2023-08-31T23:30:00+02:00  31/08/2023  23:30   \n",
       "1  2023-08-31T23:00:00+02:00  31/08/2023  23:00   \n",
       "2  2023-08-31T22:30:00+02:00  31/08/2023  22:30   \n",
       "3  2023-08-31T22:00:00+02:00  31/08/2023  22:00   \n",
       "4  2023-08-31T21:30:00+02:00  31/08/2023  21:30   \n",
       "5  2023-08-31T21:00:00+02:00  31/08/2023  21:00   \n",
       "6  2023-08-31T20:30:00+02:00  31/08/2023  20:30   \n",
       "7  2023-08-31T20:00:00+02:00  31/08/2023  20:00   \n",
       "8  2023-08-31T19:30:00+02:00  31/08/2023  19:30   \n",
       "9  2023-08-31T19:00:00+02:00  31/08/2023  19:00   \n",
       "\n",
       "   consommation_brute_gaz_grtgaz statut_grtgaz  consommation_brute_gaz_terega  \\\n",
       "0                            NaN           NaN                            NaN   \n",
       "1                        23599.0     Définitif                         1114.0   \n",
       "2                            NaN           NaN                            NaN   \n",
       "3                        24935.0     Définitif                         1181.0   \n",
       "4                            NaN           NaN                            NaN   \n",
       "5                        26360.0     Définitif                         1321.0   \n",
       "6                            NaN           NaN                            NaN   \n",
       "7                        27466.0     Définitif                         1443.0   \n",
       "8                            NaN           NaN                            NaN   \n",
       "9                        27928.0     Définitif                         1409.0   \n",
       "\n",
       "  statut_terega  consommation_brute_gaz_totale  \\\n",
       "0           NaN                            NaN   \n",
       "1     Définitif                        24713.0   \n",
       "2           NaN                            NaN   \n",
       "3     Définitif                        26116.0   \n",
       "4           NaN                            NaN   \n",
       "5     Définitif                        27681.0   \n",
       "6           NaN                            NaN   \n",
       "7     Définitif                        28909.0   \n",
       "8           NaN                            NaN   \n",
       "9     Définitif                        29337.0   \n",
       "\n",
       "   consommation_brute_electricite_rte statut_rte  consommation_brute_totale  \n",
       "0                               42710  Consolidé                        NaN  \n",
       "1                               43562  Consolidé                    68275.0  \n",
       "2                               44426  Consolidé                        NaN  \n",
       "3                               43430  Consolidé                    69546.0  \n",
       "4                               43281  Consolidé                        NaN  \n",
       "5                               44511  Consolidé                    72192.0  \n",
       "6                               45313  Consolidé                        NaN  \n",
       "7                               45412  Consolidé                    74321.0  \n",
       "8                               46477  Consolidé                        NaN  \n",
       "9                               47232  Consolidé                    76569.0  "
      ]
     },
     "execution_count": 2,
     "metadata": {},
     "output_type": "execute_result"
    }
   ],
   "source": [
    "file_path = 'consommation-quotidienne-brute.csv'  \n",
    "data = pd.read_csv(file_path, delimiter=';')\n",
    "data.head(10)"
   ]
  },
  {
   "cell_type": "code",
   "execution_count": 5,
   "metadata": {},
   "outputs": [
    {
     "data": {
      "text/plain": [
       "date_heure                                 0\n",
       "date                                       0\n",
       "heure                                      0\n",
       "consommation_brute_gaz_grtgaz         102264\n",
       "statut_grtgaz                         102264\n",
       "consommation_brute_gaz_terega         102267\n",
       "statut_terega                         102264\n",
       "consommation_brute_gaz_totale         102268\n",
       "consommation_brute_electricite_rte         0\n",
       "statut_rte                                 0\n",
       "consommation_brute_totale             102268\n",
       "dtype: int64"
      ]
     },
     "execution_count": 5,
     "metadata": {},
     "output_type": "execute_result"
    }
   ],
   "source": [
    "data.isnull().sum()"
   ]
  },
  {
   "cell_type": "code",
   "execution_count": 3,
   "metadata": {},
   "outputs": [
    {
     "name": "stdout",
     "output_type": "stream",
     "text": [
      "<class 'pandas.core.frame.DataFrame'>\n",
      "RangeIndex: 204528 entries, 0 to 204527\n",
      "Data columns (total 11 columns):\n",
      " #   Column                              Non-Null Count   Dtype  \n",
      "---  ------                              --------------   -----  \n",
      " 0   date_heure                          204528 non-null  object \n",
      " 1   date                                204528 non-null  object \n",
      " 2   heure                               204528 non-null  object \n",
      " 3   consommation_brute_gaz_grtgaz       102264 non-null  float64\n",
      " 4   statut_grtgaz                       102264 non-null  object \n",
      " 5   consommation_brute_gaz_terega       102261 non-null  float64\n",
      " 6   statut_terega                       102264 non-null  object \n",
      " 7   consommation_brute_gaz_totale       102260 non-null  float64\n",
      " 8   consommation_brute_electricite_rte  204528 non-null  int64  \n",
      " 9   statut_rte                          204528 non-null  object \n",
      " 10  consommation_brute_totale           102260 non-null  float64\n",
      "dtypes: float64(4), int64(1), object(6)\n",
      "memory usage: 17.2+ MB\n"
     ]
    }
   ],
   "source": [
    "data.info()"
   ]
  },
  {
   "cell_type": "code",
   "execution_count": 19,
   "metadata": {},
   "outputs": [
    {
     "name": "stderr",
     "output_type": "stream",
     "text": [
      "/var/folders/9y/nmh0_sr95hl2dtlk_17wzx6h0000gn/T/ipykernel_5994/3151427915.py:2: SettingWithCopyWarning: \n",
      "A value is trying to be set on a copy of a slice from a DataFrame.\n",
      "Try using .loc[row_indexer,col_indexer] = value instead\n",
      "\n",
      "See the caveats in the documentation: https://pandas.pydata.org/pandas-docs/stable/user_guide/indexing.html#returning-a-view-versus-a-copy\n",
      "  cleaned_data['date_heure'] = pd.to_datetime(cleaned_data['date_heure'], utc=True)\n"
     ]
    }
   ],
   "source": [
    "cleaned_data = data.dropna()\n",
    "cleaned_data['date_heure'] = pd.to_datetime(cleaned_data['date_heure'], utc=True)"
   ]
  },
  {
   "cell_type": "code",
   "execution_count": 20,
   "metadata": {},
   "outputs": [
    {
     "data": {
      "image/png": "[encoded data removed]",
      "text/plain": [
       "<Figure size 1200x600 with 1 Axes>"
      ]
     },
     "metadata": {},
     "output_type": "display_data"
    }
   ],
   "source": [
    "def basic_plot(data_x, data_y, title, labels):\n",
    "    plt.figure(figsize=(12, 6))\n",
    "    plt.plot(data_x, data_y, label=labels['label'])\n",
    "    plt.title(title)\n",
    "    plt.xlabel(labels['xlabel'])\n",
    "    plt.ylabel(labels['ylabel'])\n",
    "    plt.legend()\n",
    "    plt.show()\n",
    "\n",
    "basic_plot(cleaned_data['date_heure'],\n",
    "           cleaned_data['consommation_brute_totale'],\n",
    "            title='Total Gross Consumption Over Time',\n",
    "              labels={'label':'Total Gross Consumption', 'xlabel':'Date', 'ylabel':'Consumption'})"
   ]
  },
  {
   "cell_type": "code",
   "execution_count": 24,
   "metadata": {},
   "outputs": [
    {
     "name": "stderr",
     "output_type": "stream",
     "text": [
      "/var/folders/9y/nmh0_sr95hl2dtlk_17wzx6h0000gn/T/ipykernel_5994/2794706359.py:1: SettingWithCopyWarning: \n",
      "A value is trying to be set on a copy of a slice from a DataFrame.\n",
      "Try using .loc[row_indexer,col_indexer] = value instead\n",
      "\n",
      "See the caveats in the documentation: https://pandas.pydata.org/pandas-docs/stable/user_guide/indexing.html#returning-a-view-versus-a-copy\n",
      "  cleaned_data['mois'] = cleaned_data['date_heure'].dt.month\n",
      "/var/folders/9y/nmh0_sr95hl2dtlk_17wzx6h0000gn/T/ipykernel_5994/2794706359.py:2: SettingWithCopyWarning: \n",
      "A value is trying to be set on a copy of a slice from a DataFrame.\n",
      "Try using .loc[row_indexer,col_indexer] = value instead\n",
      "\n",
      "See the caveats in the documentation: https://pandas.pydata.org/pandas-docs/stable/user_guide/indexing.html#returning-a-view-versus-a-copy\n",
      "  cleaned_data['jour'] = cleaned_data['date_heure'].dt.day\n",
      "/var/folders/9y/nmh0_sr95hl2dtlk_17wzx6h0000gn/T/ipykernel_5994/2794706359.py:3: SettingWithCopyWarning: \n",
      "A value is trying to be set on a copy of a slice from a DataFrame.\n",
      "Try using .loc[row_indexer,col_indexer] = value instead\n",
      "\n",
      "See the caveats in the documentation: https://pandas.pydata.org/pandas-docs/stable/user_guide/indexing.html#returning-a-view-versus-a-copy\n",
      "  cleaned_data['heure'] = cleaned_data['date_heure'].dt.hour\n"
     ]
    }
   ],
   "source": [
    "cleaned_data['mois'] = cleaned_data['date_heure'].dt.month\n",
    "cleaned_data['jour'] = cleaned_data['date_heure'].dt.day\n",
    "cleaned_data['heure'] = cleaned_data['date_heure'].dt.hour"
   ]
  },
  {
   "cell_type": "code",
   "execution_count": 26,
   "metadata": {},
   "outputs": [
    {
     "name": "stdout",
     "output_type": "stream",
     "text": [
      "<class 'pandas.core.frame.DataFrame'>\n",
      "Index: 102212 entries, 1 to 204527\n",
      "Data columns (total 13 columns):\n",
      " #   Column                              Non-Null Count   Dtype              \n",
      "---  ------                              --------------   -----              \n",
      " 0   date_heure                          102212 non-null  datetime64[ns, UTC]\n",
      " 1   date                                102212 non-null  object             \n",
      " 2   heure                               102212 non-null  int32              \n",
      " 3   consommation_brute_gaz_grtgaz       102212 non-null  float64            \n",
      " 4   statut_grtgaz                       102212 non-null  object             \n",
      " 5   consommation_brute_gaz_terega       102212 non-null  float64            \n",
      " 6   statut_terega                       102212 non-null  object             \n",
      " 7   consommation_brute_gaz_totale       102212 non-null  float64            \n",
      " 8   consommation_brute_electricite_rte  102212 non-null  int64              \n",
      " 9   statut_rte                          102212 non-null  object             \n",
      " 10  consommation_brute_totale           102212 non-null  float64            \n",
      " 11  mois                                102212 non-null  int32              \n",
      " 12  jour                                102212 non-null  int32              \n",
      "dtypes: datetime64[ns, UTC](1), float64(4), int32(3), int64(1), object(4)\n",
      "memory usage: 9.7+ MB\n"
     ]
    }
   ],
   "source": [
    "cleaned_data.info()"
   ]
  },
  {
   "cell_type": "code",
   "execution_count": 32,
   "metadata": {},
   "outputs": [],
   "source": [
    "from sklearn.preprocessing import StandardScaler, OneHotEncoder, OrdinalEncoder\n",
    "from sklearn.compose import ColumnTransformer\n",
    "from sklearn.pipeline import Pipeline\n",
    "\n",
    "numerical_columns = ['consommation_brute_gaz_grtgaz', 'consommation_brute_gaz_terega', 'consommation_brute_gaz_totale', \n",
    "                       'consommation_brute_electricite_rte', 'consommation_brute_totale']\n",
    "cardinal_columns = ['mois', 'jour', 'heure']\n",
    "ordinal_columns = ['statut_grtgaz', 'statut_terega', 'statut_rte']"
   ]
  },
  {
   "cell_type": "code",
   "execution_count": 41,
   "metadata": {},
   "outputs": [
    {
     "data": {
      "text/plain": [
       "array([ 8.        , 31.        , 21.        ,  0.        ,  0.        ,\n",
       "        0.        , -0.96772931, -0.95126873, -0.96903254, -0.82888146,\n",
       "       -0.95651419])"
      ]
     },
     "execution_count": 41,
     "metadata": {},
     "output_type": "execute_result"
    }
   ],
   "source": [
    "def normalize_data(data):\n",
    "    categorical_preprocessor = OrdinalEncoder(handle_unknown=\"use_encoded_value\", unknown_value=-1)\n",
    "    preprocessor = ColumnTransformer(\n",
    "        [\n",
    "                (\"cardinal\", \"passthrough\", cardinal_columns),\n",
    "                (\"categorical\", categorical_preprocessor, ordinal_columns),\n",
    "                (\"numerical\", StandardScaler(), numerical_columns)\n",
    "            ]\n",
    "        )\n",
    "    return preprocessor.fit_transform(data)\n",
    "\n",
    "normalized_data = normalize_data(cleaned_data)\n",
    "normalized_data[0]"
   ]
  },
  {
   "cell_type": "code",
   "execution_count": 113,
   "metadata": {},
   "outputs": [],
   "source": [
    "def create_time_series(X, length):\n",
    "    X_ts_shape = (X.shape[0]-length, length) + tuple(dim for dim in X.shape[1:])\n",
    "    X_ts = np.zeros(X_ts_shape)\n",
    "    y = np.zeros_like(X)[length:]\n",
    "\n",
    "    for i in range(y.shape[0]):\n",
    "        for j in range(length):\n",
    "            X_ts[i][j] = X[i * length +j]\n",
    "        y[i] = X[i + length - 1]\n",
    "\n",
    "    return X_ts, y\n",
    "\n",
    "\n",
    "def create_dataset_numpy_array(data, ts_lenght):\n",
    "    data = data.sort_values(by='date_heure', ascending=True)\n",
    "    X = data.drop(['date_heure', 'date'], axis=1)\n",
    "    X = normalize_data(X)\n",
    "\n",
    "    return create_time_series(X, length=ts_lenght)    "
   ]
  },
  {
   "cell_type": "code",
   "execution_count": 114,
   "metadata": {},
   "outputs": [
    {
     "ename": "IndexError",
     "evalue": "index 102225 is out of bounds for axis 0 with size 102212",
     "output_type": "error",
     "traceback": [
      "\u001b[0;31m---------------------------------------------------------------------------\u001b[0m",
      "\u001b[0;31mIndexError\u001b[0m                                Traceback (most recent call last)",
      "\u001b[1;32m/Users/mage/Desktop/Gaspard/inria_test/dataset/explore.ipynb Cell 12\u001b[0m line \u001b[0;36m1\n\u001b[0;32m----> <a href='vscode-notebook-cell:/Users/mage/Desktop/Gaspard/inria_test/dataset/explore.ipynb#X31sZmlsZQ%3D%3D?line=0'>1</a>\u001b[0m X, y \u001b[39m=\u001b[39m create_dataset_numpy_array(cleaned_data, ts_lenght\u001b[39m=\u001b[39;49m\u001b[39m24\u001b[39;49m)\n",
      "\u001b[1;32m/Users/mage/Desktop/Gaspard/inria_test/dataset/explore.ipynb Cell 12\u001b[0m line \u001b[0;36m1\n\u001b[1;32m     <a href='vscode-notebook-cell:/Users/mage/Desktop/Gaspard/inria_test/dataset/explore.ipynb#X31sZmlsZQ%3D%3D?line=15'>16</a>\u001b[0m X \u001b[39m=\u001b[39m data\u001b[39m.\u001b[39mdrop([\u001b[39m'\u001b[39m\u001b[39mdate_heure\u001b[39m\u001b[39m'\u001b[39m, \u001b[39m'\u001b[39m\u001b[39mdate\u001b[39m\u001b[39m'\u001b[39m], axis\u001b[39m=\u001b[39m\u001b[39m1\u001b[39m)\n\u001b[1;32m     <a href='vscode-notebook-cell:/Users/mage/Desktop/Gaspard/inria_test/dataset/explore.ipynb#X31sZmlsZQ%3D%3D?line=16'>17</a>\u001b[0m X \u001b[39m=\u001b[39m normalize_data(X)\n\u001b[0;32m---> <a href='vscode-notebook-cell:/Users/mage/Desktop/Gaspard/inria_test/dataset/explore.ipynb#X31sZmlsZQ%3D%3D?line=18'>19</a>\u001b[0m \u001b[39mreturn\u001b[39;00m create_time_series(X, length\u001b[39m=\u001b[39;49mts_lenght)\n",
      "\u001b[1;32m/Users/mage/Desktop/Gaspard/inria_test/dataset/explore.ipynb Cell 12\u001b[0m line \u001b[0;36m9\n\u001b[1;32m      <a href='vscode-notebook-cell:/Users/mage/Desktop/Gaspard/inria_test/dataset/explore.ipynb#X31sZmlsZQ%3D%3D?line=6'>7</a>\u001b[0m     \u001b[39mfor\u001b[39;00m j \u001b[39min\u001b[39;00m \u001b[39mrange\u001b[39m(length):\n\u001b[1;32m      <a href='vscode-notebook-cell:/Users/mage/Desktop/Gaspard/inria_test/dataset/explore.ipynb#X31sZmlsZQ%3D%3D?line=7'>8</a>\u001b[0m         X_ts[i][j] \u001b[39m=\u001b[39m X[i \u001b[39m*\u001b[39m length \u001b[39m+\u001b[39mj]\n\u001b[0;32m----> <a href='vscode-notebook-cell:/Users/mage/Desktop/Gaspard/inria_test/dataset/explore.ipynb#X31sZmlsZQ%3D%3D?line=8'>9</a>\u001b[0m     y[i] \u001b[39m=\u001b[39m X[i \u001b[39m*\u001b[39;49m (length\u001b[39m+\u001b[39;49m\u001b[39m1\u001b[39;49m)]\n\u001b[1;32m     <a href='vscode-notebook-cell:/Users/mage/Desktop/Gaspard/inria_test/dataset/explore.ipynb#X31sZmlsZQ%3D%3D?line=10'>11</a>\u001b[0m \u001b[39mreturn\u001b[39;00m X_ts, y\n",
      "\u001b[0;31mIndexError\u001b[0m: index 102225 is out of bounds for axis 0 with size 102212"
     ]
    }
   ],
   "source": [
    "X, y = create_dataset_numpy_array(cleaned_data, ts_lenght=24)"
   ]
  },
  {
   "cell_type": "code",
   "execution_count": 112,
   "metadata": {},
   "outputs": [
    {
     "name": "stdout",
     "output_type": "stream",
     "text": [
      "[ 1.          1.         22.          0.          0.          1.\n",
      "  0.0236664   0.09785669  0.02919754  0.25712043  0.0991751 ]\n",
      "\n",
      "\n",
      "[ 1.          1.         23.          0.          0.          1.\n",
      "  0.0630933   0.07287752  0.06397872  0.13929081  0.08878082]\n"
     ]
    }
   ],
   "source": [
    "print(X[0][23])\n",
    "print(\"\\n\")\n",
    "print(y[0])"
   ]
  }
 ],
 "metadata": {
  "kernelspec": {
   "display_name": "venv",
   "language": "python",
   "name": "python3"
  },
  "language_info": {
   "codemirror_mode": {
    "name": "ipython",
    "version": 3
   },
   "file_extension": ".py",
   "mimetype": "text/x-python",
   "name": "python",
   "nbconvert_exporter": "python",
   "pygments_lexer": "ipython3",
   "version": "3.11.6"
  }
 },
 "nbformat": 4,
 "nbformat_minor": 2
}
